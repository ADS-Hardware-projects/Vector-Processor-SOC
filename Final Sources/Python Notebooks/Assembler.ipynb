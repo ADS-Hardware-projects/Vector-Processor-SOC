{
 "cells": [
  {
   "cell_type": "markdown",
   "id": "1adc4c8d",
   "metadata": {},
   "source": [
    "# Assembler Program (For our use)"
   ]
  },
  {
   "cell_type": "markdown",
   "id": "99b139a5",
   "metadata": {},
   "source": [
    "## Opening the assembly program"
   ]
  },
  {
   "cell_type": "code",
   "execution_count": 1,
   "id": "d8857a73",
   "metadata": {},
   "outputs": [],
   "source": [
    "path = \"E:\\\\Projects\\\\Vivado\\\\Vector-Processor-SOC\\\\SOC_V7\\\\SOC_V7.srcs\\\\programs\\\\\"\n",
    "# file_name = \"multiplier_large.asm\"\n",
    "file_name = \"program1.asm\""
   ]
  },
  {
   "cell_type": "code",
   "execution_count": 2,
   "id": "b3b96868",
   "metadata": {},
   "outputs": [
    {
     "name": "stdout",
     "output_type": "stream",
     "text": [
      "/*\n",
      "    This is the first assembly program to test the GPU\n",
      "    This program will get the result of (3A+2B)B - BA\n",
      "\n",
      "    matrix A is at Mem Address 256\n",
      "    matrix B is at Mem address 512\n",
      "*/\n",
      "\n",
      "section .text\n",
      "global _start\n",
      "_start:\n",
      "    loadrf 256; // load matrix A to the register file\n",
      "    addsub 256 768 0; // A + A --> Mem address 768\n",
      "    addsub 768 768 0; // 2A + A --> Mem address 768 (At 768 now 3A)\n",
      "    mul 512 1024; // B*A --> Mem address 1024\n",
      "    loadrf 512; // load matrix B to register file\n",
      "    addsub 512 1280 0; // B+B ---> Mem address 1280\n",
      "    loadrf 1280; // load 2B to register file\n",
      "    addsub 768 768 0; // 3A + 2B --> 768 (At 768 now 3A + 2B)\n",
      "    loadrf 512; // load B to the register file\n",
      "    mul 768 768; // (3A+2B)B --> Mem address 768\n",
      "    loadrf 1024; // load BA to the register file\n",
      "    addsub 768 1024 2; // (3A+2B)B - BA\n",
      "    nop;\n",
      "    nop;\n",
      "    term;\n",
      "\n"
     ]
    }
   ],
   "source": [
    "with open(path + file_name, 'r') as assembly_file:\n",
    "    content = assembly_file.read()\n",
    "    \n",
    "print(content)"
   ]
  },
  {
   "cell_type": "markdown",
   "id": "167af170",
   "metadata": {},
   "source": [
    "## Defining OPCODES"
   ]
  },
  {
   "cell_type": "code",
   "execution_count": 3,
   "id": "f246c337",
   "metadata": {},
   "outputs": [],
   "source": [
    "def addsub(A_ptr, Ans_ptr, opr):\n",
    "    OPCODE = 15\n",
    "    result1 = bin(OPCODE)[2:].zfill(8) # adding the opcode\n",
    "    result2 = bin(opr)[2:].zfill(2) \n",
    "    result3 = bin(A_ptr)[2:].zfill(11)\n",
    "    result4 = bin(Ans_ptr)[2:].zfill(11)\n",
    "    \n",
    "    final_code = hex(int(result1+result2+result3+result4, 2))[2:].zfill(8)\n",
    "    \n",
    "#     print(result1,result2,result3,result4)\n",
    "#     print(final_code)\n",
    "    \n",
    "    return final_code\n",
    "\n",
    "def mul(A_ptr, Ans_ptr):\n",
    "    OPCODE = 12\n",
    "    \n",
    "    result1 = bin(OPCODE)[2:].zfill(8) # adding the opcode\n",
    "    result2 = \"00\"\n",
    "    result3 = bin(A_ptr)[2:].zfill(11)\n",
    "    result4 = bin(Ans_ptr)[2:].zfill(11)\n",
    "    \n",
    "    final_code = hex(int(result1+result2+result3+result4, 2))[2:].zfill(8)\n",
    "    \n",
    "#     print(result1,result2,result3,result4)\n",
    "#     print(final_code)\n",
    "    \n",
    "    return final_code\n",
    "\n",
    "def nop():\n",
    "    OPCODE = 0\n",
    "    result1 = bin(OPCODE)[2:].zfill(8) # adding the opcode\n",
    "    result2 = \"\".zfill(24)\n",
    "    \n",
    "    final_code = hex(int(result1+result2, 2))[2:].zfill(8)\n",
    "    \n",
    "#     print(result1, result2)\n",
    "#     print(final_code)\n",
    "    \n",
    "    return final_code\n",
    "\n",
    "def term():\n",
    "    OPCODE = 1\n",
    "    result1 = bin(OPCODE)[2:].zfill(8) # adding the opcode\n",
    "    result2 = \"\".zfill(24)\n",
    "    \n",
    "    final_code = hex(int(result1+result2, 2))[2:].zfill(8)\n",
    "    \n",
    "#     print(result1, result2)\n",
    "#     print(final_code)\n",
    "    \n",
    "    return final_code\n",
    "\n",
    "def loadrf(A_ptr):\n",
    "    OPCODE = 4\n",
    "    result1 = bin(OPCODE)[2:].zfill(8) # adding the opcode\n",
    "    result2 = bin(A_ptr)[2:].zfill(24)\n",
    "    \n",
    "    final_code = hex(int(result1+result2, 2))[2:].zfill(8)\n",
    "    \n",
    "#     print(result1,result2)\n",
    "#     print(final_code)\n",
    "    \n",
    "    return final_code\n",
    "\n",
    "# def loadrf(A_ptr, transpose):\n",
    "#     OPCODE = 4\n",
    "#     result1 = bin(OPCODE)[2:].zfill(8) # adding the opcode\n",
    "#     result2 = bin(transpose)[2:].zfill(1)\n",
    "#     result3 = bin(A_ptr)[2:].zfill(23)\n",
    "    \n",
    "#     final_code = hex(int(result1+result2+result3, 2))[2:].zfill(8)\n",
    "    \n",
    "# #     print(result1,result2,result3)\n",
    "# #     print(final_code)\n",
    "    \n",
    "#     return final_code\n",
    "\n",
    "def loadrow(ptr):\n",
    "    OPCODE = 8\n",
    "    result1 = bin(OPCODE)[2:].zfill(8) # adding the opcode\n",
    "    result2 = bin(ptr)[2:].zfill(24)\n",
    "    \n",
    "    final_code = hex(int(result1+result2, 2))[2:].zfill(8)\n",
    "    \n",
    "#     print(result1,result2)\n",
    "#     print(final_code)\n",
    "    \n",
    "    return final_code"
   ]
  },
  {
   "cell_type": "code",
   "execution_count": 48,
   "id": "ddeba0ed",
   "metadata": {},
   "outputs": [],
   "source": [
    "def clean_assembly(assembly_code):\n",
    "    # Find the index of '_start:'\n",
    "    start_index = assembly_code.index('_start:')\n",
    "\n",
    "    # Get the content after '_start:'\n",
    "    code_after_start = assembly_code[start_index + 1:]\n",
    "\n",
    "    # Remove comments and strip whitespace\n",
    "    cleaned_code = [line.split(';')[0].strip() for line in code_after_start]\n",
    "\n",
    "    # Remove empty lines\n",
    "    cleaned_code = list(filter(None, cleaned_code))\n",
    "\n",
    "    return cleaned_code"
   ]
  },
  {
   "cell_type": "code",
   "execution_count": 49,
   "id": "d8232faa",
   "metadata": {},
   "outputs": [],
   "source": [
    "def execute_function(func_name, args):\n",
    "    # Get the function by name\n",
    "    func = globals().get(func_name)\n",
    "\n",
    "    # Check if the function exists\n",
    "    if func is not None and callable(func):\n",
    "        # Execute the function with the provided arguments\n",
    "        result = func(*args)\n",
    "        return result\n",
    "    else:\n",
    "        print(f\"Function '{func_name}' not found or not callable.\")"
   ]
  },
  {
   "cell_type": "code",
   "execution_count": 50,
   "id": "573bd927",
   "metadata": {},
   "outputs": [],
   "source": [
    "ins = clean_assembly(content.split(\"\\n\"))"
   ]
  },
  {
   "cell_type": "markdown",
   "id": "7e4e9829",
   "metadata": {},
   "source": [
    "## Generating Machine Code (FOR TEST BENCH)"
   ]
  },
  {
   "cell_type": "code",
   "execution_count": 51,
   "id": "67c21e6f",
   "metadata": {},
   "outputs": [
    {
     "name": "stdout",
     "output_type": "stream",
     "text": [
      "@(posedge clk) #1 MemInAddr  = 12'h000; MemInData = 32'h04000100;\n",
      "@(posedge clk) #1 MemInAddr  = 12'h001; MemInData = 32'h0f080300;\n",
      "@(posedge clk) #1 MemInAddr  = 12'h002; MemInData = 32'h0f180300;\n",
      "@(posedge clk) #1 MemInAddr  = 12'h003; MemInData = 32'h0c100400;\n",
      "@(posedge clk) #1 MemInAddr  = 12'h004; MemInData = 32'h04000200;\n",
      "@(posedge clk) #1 MemInAddr  = 12'h005; MemInData = 32'h0f100500;\n",
      "@(posedge clk) #1 MemInAddr  = 12'h006; MemInData = 32'h04000500;\n",
      "@(posedge clk) #1 MemInAddr  = 12'h007; MemInData = 32'h0f180300;\n",
      "@(posedge clk) #1 MemInAddr  = 12'h008; MemInData = 32'h04000200;\n",
      "@(posedge clk) #1 MemInAddr  = 12'h009; MemInData = 32'h0c180300;\n",
      "@(posedge clk) #1 MemInAddr  = 12'h00a; MemInData = 32'h04000400;\n",
      "@(posedge clk) #1 MemInAddr  = 12'h00b; MemInData = 32'h0f980400;\n",
      "@(posedge clk) #1 MemInAddr  = 12'h00c; MemInData = 32'h00000000;\n",
      "@(posedge clk) #1 MemInAddr  = 12'h00d; MemInData = 32'h00000000;\n",
      "@(posedge clk) #1 MemInAddr  = 12'h00e; MemInData = 32'h01000000;\n"
     ]
    }
   ],
   "source": [
    "for i, instruction in enumerate(ins):\n",
    "    instruction = instruction.split()\n",
    "    \n",
    "    opcode = instruction[0]\n",
    "    args = [int(arg) for arg in instruction[1:]]\n",
    "    \n",
    "    mc = execute_function(opcode, args)\n",
    "    \n",
    "    #  @(posedge clk) #1 MemInAddr  = 12'h000; MemInData = 32'h04000400;\n",
    "    \n",
    "    print(f\"@(posedge clk) #1 MemInAddr  = 12'h{hex(i)[2:].zfill(3)}; MemInData = 32'h{mc};\")"
   ]
  },
  {
   "cell_type": "markdown",
   "id": "54488fd9",
   "metadata": {},
   "source": [
    "## Generating Machine Code (For VPU implemented in FPGA)"
   ]
  },
  {
   "cell_type": "code",
   "execution_count": 52,
   "id": "689ee8dd",
   "metadata": {},
   "outputs": [],
   "source": [
    "instrucntion_list = []\n",
    "for i, instruction in enumerate(ins):\n",
    "    instruction = instruction.split()\n",
    "    \n",
    "    opcode = instruction[0]\n",
    "    args = [int(arg) for arg in instruction[1:]]\n",
    "    \n",
    "    mc = int(execute_function(opcode, args), 16)\n",
    "    \n",
    "    #  @(posedge clk) #1 MemInAddr  = 12'h000; MemInData = 32'h04000400;\n",
    "    \n",
    "#     print(f\"@(posedge clk) #1 MemInAddr  = 12'h{hex(i)[2:].zfill(3)}; MemInData = 32'h{mc};\")\n",
    "    instrucntion_list.append(mc)\n",
    "    "
   ]
  },
  {
   "cell_type": "code",
   "execution_count": 53,
   "id": "577cbfb4",
   "metadata": {},
   "outputs": [],
   "source": [
    "hex_ins = []\n",
    "for instruction in instrucntion_list:\n",
    "    temp = \"0x{}\".format(hex(instruction)[2:].zfill(8)) \n",
    "    hex_ins.append(temp)"
   ]
  },
  {
   "cell_type": "code",
   "execution_count": 54,
   "id": "274596f2",
   "metadata": {},
   "outputs": [
    {
     "name": "stdout",
     "output_type": "stream",
     "text": [
      "{0x04000100,0x0f080300,0x0f180300,0x0c100400,0x04000200,0x0f100500,0x04000500,0x0f180300,0x04000200,0x0c180300,0x04000400,0x0f980400,0x00000000,0x00000000,0x01000000}\n"
     ]
    }
   ],
   "source": [
    "c_arr = \"{\" + \",\".join(hex_ins) + \"}\"\n",
    "print(c_arr)"
   ]
  },
  {
   "cell_type": "code",
   "execution_count": null,
   "id": "0ebec840",
   "metadata": {},
   "outputs": [],
   "source": []
  },
  {
   "cell_type": "code",
   "execution_count": null,
   "id": "877e817f",
   "metadata": {},
   "outputs": [],
   "source": []
  },
  {
   "cell_type": "code",
   "execution_count": null,
   "id": "dc850bb8",
   "metadata": {},
   "outputs": [],
   "source": []
  }
 ],
 "metadata": {
  "kernelspec": {
   "display_name": "Python 3 (ipykernel)",
   "language": "python",
   "name": "python3"
  },
  "language_info": {
   "codemirror_mode": {
    "name": "ipython",
    "version": 3
   },
   "file_extension": ".py",
   "mimetype": "text/x-python",
   "name": "python",
   "nbconvert_exporter": "python",
   "pygments_lexer": "ipython3",
   "version": "3.10.5"
  }
 },
 "nbformat": 4,
 "nbformat_minor": 5
}
