{
 "cells": [
  {
   "cell_type": "code",
   "execution_count": 57,
   "id": "b4e2ab0b",
   "metadata": {},
   "outputs": [],
   "source": [
    "import numpy as np"
   ]
  },
  {
   "cell_type": "code",
   "execution_count": 64,
   "id": "ad1caf1c",
   "metadata": {},
   "outputs": [],
   "source": [
    "l = 2\n",
    "m = 3\n",
    "n = 4\n",
    "\n",
    "A = np.random.randint(100, size = (l,m))\n",
    "B = np.random.randint(100, size = (m,n))\n",
    "C = A @ B"
   ]
  },
  {
   "cell_type": "code",
   "execution_count": 65,
   "id": "367b5171",
   "metadata": {},
   "outputs": [
    {
     "name": "stdout",
     "output_type": "stream",
     "text": [
      "Matrix A\n",
      "--------------------------\n",
      "[[38 72  8]\n",
      " [47 24 27]]\n",
      "\n",
      "Matrix B\n",
      "--------------------------\n",
      "[[43 85 70 76]\n",
      " [43 95 20  2]\n",
      " [84  5  2 41]]\n",
      "\n",
      "Matrix C\n",
      "--------------------------\n",
      "[[ 5402 10110  4116  3360]\n",
      " [ 5321  6410  3824  4727]]\n"
     ]
    }
   ],
   "source": [
    "print(\"Matrix A\\n--------------------------\")\n",
    "print(A)\n",
    "print(\"\\nMatrix B\\n--------------------------\")\n",
    "print(B)\n",
    "print(\"\\nMatrix C\\n--------------------------\")\n",
    "print(C)"
   ]
  },
  {
   "cell_type": "code",
   "execution_count": 66,
   "id": "613366a5",
   "metadata": {},
   "outputs": [
    {
     "data": {
      "text/plain": [
       "(2, 3)"
      ]
     },
     "execution_count": 66,
     "metadata": {},
     "output_type": "execute_result"
    }
   ],
   "source": [
    "ELEMENTS = 4\n",
    "A.shape"
   ]
  },
  {
   "cell_type": "code",
   "execution_count": 67,
   "id": "38926ea4",
   "metadata": {},
   "outputs": [],
   "source": [
    "def gen_sub_mat(matrix, ELEMENTS):\n",
    "    sub_rows = int(np.ceil(matrix.shape[0] / ELEMENTS))\n",
    "    sub_cols = int(np.ceil(matrix.shape[1] / ELEMENTS))\n",
    "    sub_mats = np.zeros(shape = (sub_rows, sub_cols, ELEMENTS, ELEMENTS))\n",
    "    \n",
    "    for i in range(sub_rows):\n",
    "        for j in range(sub_cols):\n",
    "            temp_matrix = np.zeros(shape = (ELEMENTS, ELEMENTS))\n",
    "            \n",
    "            for i_sub in range(min(ELEMENTS, matrix.shape[0] - i*ELEMENTS)):\n",
    "                for j_sub in range(min(ELEMENTS, matrix.shape[1] - j*ELEMENTS)):\n",
    "                    temp_matrix[i_sub][j_sub] = matrix[i*ELEMENTS + i_sub][j*ELEMENTS + j_sub]\n",
    "                    \n",
    "            sub_mats[i][j] = temp_matrix\n",
    "            \n",
    "    return sub_mats"
   ]
  },
  {
   "cell_type": "code",
   "execution_count": 68,
   "id": "84ba43cc",
   "metadata": {},
   "outputs": [],
   "source": [
    "A_subs = gen_sub_mat(A, ELEMENTS)\n",
    "B_subs = gen_sub_mat(B, ELEMENTS)"
   ]
  },
  {
   "cell_type": "code",
   "execution_count": 73,
   "id": "58662895",
   "metadata": {},
   "outputs": [
    {
     "data": {
      "text/plain": [
       "array([[ 5402., 10110.,  4116.,  3360.],\n",
       "       [ 5321.,  6410.,  3824.,  4727.],\n",
       "       [    0.,     0.,     0.,     0.],\n",
       "       [    0.,     0.,     0.,     0.]])"
      ]
     },
     "execution_count": 73,
     "metadata": {},
     "output_type": "execute_result"
    }
   ],
   "source": [
    "A_subs[0][0] @ B_subs[0][0]"
   ]
  },
  {
   "cell_type": "code",
   "execution_count": 72,
   "id": "3ce2fdd8",
   "metadata": {},
   "outputs": [
    {
     "data": {
      "text/plain": [
       "array([[43., 85., 70., 76.],\n",
       "       [43., 95., 20.,  2.],\n",
       "       [84.,  5.,  2., 41.],\n",
       "       [ 0.,  0.,  0.,  0.]])"
      ]
     },
     "execution_count": 72,
     "metadata": {},
     "output_type": "execute_result"
    }
   ],
   "source": []
  },
  {
   "cell_type": "code",
   "execution_count": 96,
   "id": "4e258d4e",
   "metadata": {},
   "outputs": [],
   "source": [
    "x = [\n",
    "    [4,5],\n",
    "    [2,3]\n",
    "]\n",
    "\n",
    "y = [\n",
    "    [2, 1],\n",
    "    [4, 1]\n",
    "]"
   ]
  },
  {
   "cell_type": "code",
   "execution_count": 97,
   "id": "dfb27804",
   "metadata": {},
   "outputs": [
    {
     "name": "stdout",
     "output_type": "stream",
     "text": [
      "4 2\n",
      "5 4\n",
      "\n",
      "2 2\n",
      "3 4\n",
      "\n",
      "4 1\n",
      "5 1\n",
      "\n",
      "2 1\n",
      "3 1\n",
      "\n"
     ]
    }
   ],
   "source": [
    "for k in range(2): # cols of B\n",
    "    for i in range(2): # rows of A\n",
    "        for j in range(2): # cols of A\n",
    "            print(x[i][j], y[j][k])\n",
    "            \n",
    "        print()"
   ]
  },
  {
   "cell_type": "code",
   "execution_count": null,
   "id": "74746868",
   "metadata": {},
   "outputs": [],
   "source": []
  },
  {
   "cell_type": "code",
   "execution_count": null,
   "id": "c555c6fe",
   "metadata": {},
   "outputs": [],
   "source": []
  }
 ],
 "metadata": {
  "kernelspec": {
   "display_name": "Python 3 (ipykernel)",
   "language": "python",
   "name": "python3"
  },
  "language_info": {
   "codemirror_mode": {
    "name": "ipython",
    "version": 3
   },
   "file_extension": ".py",
   "mimetype": "text/x-python",
   "name": "python",
   "nbconvert_exporter": "python",
   "pygments_lexer": "ipython3",
   "version": "3.10.5"
  }
 },
 "nbformat": 4,
 "nbformat_minor": 5
}
