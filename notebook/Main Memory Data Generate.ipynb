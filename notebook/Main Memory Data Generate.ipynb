{
 "cells": [
  {
   "cell_type": "code",
   "execution_count": 1,
   "id": "0e93ae7c",
   "metadata": {},
   "outputs": [],
   "source": [
    "import numpy as np"
   ]
  },
  {
   "cell_type": "code",
   "execution_count": 63,
   "id": "6619c704",
   "metadata": {},
   "outputs": [],
   "source": [
    "A = [\n",
    "        [12, 34, 12, 11, 45],\n",
    "        [43, 76, 12, 10, 33],\n",
    "        [11,  9, 45, 50, 10],\n",
    "        [23, 22, 61, 45, 12]\n",
    "]\n",
    "A = np.array(A, dtype='int32')\n",
    "\n",
    "B = [\n",
    "        [23, 44, 12],\n",
    "        [12, 42, 90],\n",
    "        [12, 48, 86],\n",
    "        [52, 39, 81],\n",
    "        [22, 12, 99]\n",
    "]\n",
    "B = np.array(B, dtype='int32')"
   ]
  },
  {
   "cell_type": "code",
   "execution_count": 64,
   "id": "9a3833fd",
   "metadata": {},
   "outputs": [
    {
     "data": {
      "text/plain": [
       "array([[ 2390,  3501,  9582],\n",
       "       [ 3291,  6446, 12465],\n",
       "       [ 3721,  5092,  9852],\n",
       "       [ 4129,  6763, 12335]])"
      ]
     },
     "execution_count": 64,
     "metadata": {},
     "output_type": "execute_result"
    }
   ],
   "source": [
    "C = A @ B\n",
    "\n",
    "C"
   ]
  },
  {
   "cell_type": "code",
   "execution_count": 65,
   "id": "013c4a91",
   "metadata": {},
   "outputs": [],
   "source": [
    "def generateHEXdata(A, B):\n",
    "    \n",
    "    matrixes = [A, B.T]\n",
    "    \n",
    "    for index, matrix in enumerate(matrixes):\n",
    "        hexData = []\n",
    "        for row in matrix:\n",
    "            tempRowHex = \"\"\n",
    "            for col in row:\n",
    "                tempColHex = hex(col)[2:].zfill(8)\n",
    "                tempRowHex += tempColHex\n",
    "\n",
    "            tempRowHex = tempRowHex.ljust(128, '0')\n",
    "            hexData.append(tempRowHex)\n",
    "            \n",
    "        for i in range(16):\n",
    "            \n",
    "            try:\n",
    "                x = \" @(posedge CLK) #1 DataIn = \"\n",
    "                y =\"512'h\" + hexData[i]\n",
    "                z = f\"; InAddress = 5'h{index}{hex(i)[2:]};\"\n",
    "                \n",
    "                print(x + y + z)\n",
    "                \n",
    "            except IndexError:\n",
    "                pass\n",
    "            \n",
    "        print(\"\\n\\n\\n\\n\\n\")"
   ]
  },
  {
   "cell_type": "code",
   "execution_count": 66,
   "id": "1cd5766f",
   "metadata": {},
   "outputs": [
    {
     "name": "stdout",
     "output_type": "stream",
     "text": [
      " @(posedge CLK) #1 DataIn = 512'h0000000c000000220000000c0000000b0000002d0000000000000000000000000000000000000000000000000000000000000000000000000000000000000000; InAddress = 5'h00;\n",
      " @(posedge CLK) #1 DataIn = 512'h0000002b0000004c0000000c0000000a000000210000000000000000000000000000000000000000000000000000000000000000000000000000000000000000; InAddress = 5'h01;\n",
      " @(posedge CLK) #1 DataIn = 512'h0000000b000000090000002d000000320000000a0000000000000000000000000000000000000000000000000000000000000000000000000000000000000000; InAddress = 5'h02;\n",
      " @(posedge CLK) #1 DataIn = 512'h00000017000000160000003d0000002d0000000c0000000000000000000000000000000000000000000000000000000000000000000000000000000000000000; InAddress = 5'h03;\n",
      "\n",
      "\n",
      "\n",
      "\n",
      "\n",
      "\n",
      " @(posedge CLK) #1 DataIn = 512'h000000170000000c0000000c00000034000000160000000000000000000000000000000000000000000000000000000000000000000000000000000000000000; InAddress = 5'h10;\n",
      " @(posedge CLK) #1 DataIn = 512'h0000002c0000002a00000030000000270000000c0000000000000000000000000000000000000000000000000000000000000000000000000000000000000000; InAddress = 5'h11;\n",
      " @(posedge CLK) #1 DataIn = 512'h0000000c0000005a0000005600000051000000630000000000000000000000000000000000000000000000000000000000000000000000000000000000000000; InAddress = 5'h12;\n",
      "\n",
      "\n",
      "\n",
      "\n",
      "\n",
      "\n"
     ]
    }
   ],
   "source": [
    "generateHEXdata(A, B)"
   ]
  },
  {
   "cell_type": "code",
   "execution_count": null,
   "id": "a61cb4a4",
   "metadata": {},
   "outputs": [],
   "source": []
  },
  {
   "cell_type": "code",
   "execution_count": null,
   "id": "a3fa200a",
   "metadata": {},
   "outputs": [],
   "source": []
  }
 ],
 "metadata": {
  "kernelspec": {
   "display_name": "Python 3 (ipykernel)",
   "language": "python",
   "name": "python3"
  },
  "language_info": {
   "codemirror_mode": {
    "name": "ipython",
    "version": 3
   },
   "file_extension": ".py",
   "mimetype": "text/x-python",
   "name": "python",
   "nbconvert_exporter": "python",
   "pygments_lexer": "ipython3",
   "version": "3.10.5"
  }
 },
 "nbformat": 4,
 "nbformat_minor": 5
}
