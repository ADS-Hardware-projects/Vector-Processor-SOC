{
 "cells": [
  {
   "cell_type": "code",
   "execution_count": 1,
   "id": "ccbe33e6",
   "metadata": {},
   "outputs": [],
   "source": [
    "import numpy as np"
   ]
  },
  {
   "cell_type": "code",
   "execution_count": 56,
   "id": "fe8b54c4",
   "metadata": {},
   "outputs": [
    {
     "data": {
      "text/plain": [
       "array([[64, 78, 23, 20, 50, 98, 93, 71],\n",
       "       [36, 96, 44, 93,  9, 92, 13, 44],\n",
       "       [74, 13, 83, 55,  0, 36, 73, 46],\n",
       "       [75,  4, 22, 58, 94, 58, 22, 72],\n",
       "       [98, 20, 43, 99, 56, 26, 49, 11],\n",
       "       [45, 70, 20, 57, 26, 83, 84, 47],\n",
       "       [24, 66, 84, 54, 12, 66, 58, 99],\n",
       "       [90, 36, 28, 70, 17, 53, 57, 99]])"
      ]
     },
     "execution_count": 56,
     "metadata": {},
     "output_type": "execute_result"
    }
   ],
   "source": [
    "A = np.random.randint(100, size = (8,8))\n",
    "A"
   ]
  },
  {
   "cell_type": "code",
   "execution_count": 57,
   "id": "e945a9de",
   "metadata": {},
   "outputs": [
    {
     "data": {
      "text/plain": [
       "array([[31, 80, 94, 53, 65,  8,  8, 13],\n",
       "       [92, 59, 36, 16, 37,  6, 86, 85],\n",
       "       [78, 45, 25, 81, 64, 55, 10, 26],\n",
       "       [70, 85, 70, 68, 79, 33, 21, 98],\n",
       "       [85, 80, 77, 32, 83, 54, 12, 98],\n",
       "       [44, 86,  5, 23, 92, 10, 94,  7],\n",
       "       [76, 82,  8, 29, 24, 31, 86, 10],\n",
       "       [58, 73, 17, 60, 21, 68, 24,  2]])"
      ]
     },
     "execution_count": 57,
     "metadata": {},
     "output_type": "execute_result"
    }
   ],
   "source": [
    "B = np.random.randint(100, size = (8,8))\n",
    "B"
   ]
  },
  {
   "cell_type": "code",
   "execution_count": 58,
   "id": "5451cdb4",
   "metadata": {},
   "outputs": [
    {
     "data": {
      "text/plain": [
       "array([[32102, 37694, 17090, 18674, 26987, 14296, 27384, 16678],\n",
       "       [28243, 31339, 16455, 18753, 26502, 11154, 21867, 20630],\n",
       "       [23614, 27537, 14895, 20298, 20978, 12801, 14461, 10689],\n",
       "       [24859, 31724, 20732, 19065, 26191, 14982, 12582, 17553],\n",
       "       [25428, 30907, 22958, 20200, 26130, 12087, 12607, 19976],\n",
       "       [28357, 33012, 15128, 16998, 24095, 11795, 24243, 16704],\n",
       "       [31222, 32803, 13913, 22328, 24183, 16828, 21554, 15814],\n",
       "       [27037, 34353, 19069, 21730, 24238, 14733, 18030, 14623]])"
      ]
     },
     "execution_count": 58,
     "metadata": {},
     "output_type": "execute_result"
    }
   ],
   "source": [
    "A @ B"
   ]
  },
  {
   "cell_type": "code",
   "execution_count": 59,
   "id": "5a3236e2",
   "metadata": {},
   "outputs": [],
   "source": [
    "def chunk_matrixes(A, size = 3):\n",
    "    itters = int(np.ceil(A.shape[0] / size))\n",
    "    result = np.zeros(shape = (itters,itters,size, size))\n",
    "    \n",
    "    for i in range(itters):\n",
    "        for j in range(itters):\n",
    "            matrix = A[size * i : size * i + size, size * j : size * j + size]\n",
    "            result[i][j][:matrix.shape[0], :matrix.shape[1]] = matrix\n",
    "    \n",
    "    return result.astype(np.uint16)"
   ]
  },
  {
   "cell_type": "code",
   "execution_count": 60,
   "id": "14bb32b8",
   "metadata": {},
   "outputs": [],
   "source": [
    "A_chunked = chunk_matrixes(A, 3)\n",
    "B_chunked = chunk_matrixes(B, 3)"
   ]
  },
  {
   "cell_type": "code",
   "execution_count": 61,
   "id": "fb21717e",
   "metadata": {},
   "outputs": [
    {
     "data": {
      "text/plain": [
       "array([[64, 78, 23],\n",
       "       [36, 96, 44],\n",
       "       [74, 13, 83]], dtype=uint16)"
      ]
     },
     "execution_count": 61,
     "metadata": {},
     "output_type": "execute_result"
    }
   ],
   "source": [
    "A_chunked[0][0]"
   ]
  },
  {
   "cell_type": "code",
   "execution_count": 62,
   "id": "afac5f6a",
   "metadata": {},
   "outputs": [
    {
     "data": {
      "text/plain": [
       "array([[70, 85, 70],\n",
       "       [85, 80, 77],\n",
       "       [44, 86,  5]], dtype=uint16)"
      ]
     },
     "execution_count": 62,
     "metadata": {},
     "output_type": "execute_result"
    }
   ],
   "source": [
    "B_chunked[1][0]"
   ]
  },
  {
   "cell_type": "code",
   "execution_count": 66,
   "id": "e786dda7",
   "metadata": {},
   "outputs": [
    {
     "data": {
      "text/plain": [
       "array([[32102, 37694, 17090],\n",
       "       [28243, 31339, 16455],\n",
       "       [23614, 27537, 14895]], dtype=uint16)"
      ]
     },
     "execution_count": 66,
     "metadata": {},
     "output_type": "execute_result"
    }
   ],
   "source": [
    "A_chunked[0][0] @ B_chunked[0][0] + A_chunked[0][1] @ B_chunked[1][0] + A_chunked[0][2] @ B_chunked[2][0]"
   ]
  },
  {
   "cell_type": "code",
   "execution_count": null,
   "id": "61160d38",
   "metadata": {},
   "outputs": [],
   "source": []
  }
 ],
 "metadata": {
  "kernelspec": {
   "display_name": "Python 3 (ipykernel)",
   "language": "python",
   "name": "python3"
  },
  "language_info": {
   "codemirror_mode": {
    "name": "ipython",
    "version": 3
   },
   "file_extension": ".py",
   "mimetype": "text/x-python",
   "name": "python",
   "nbconvert_exporter": "python",
   "pygments_lexer": "ipython3",
   "version": "3.10.5"
  }
 },
 "nbformat": 4,
 "nbformat_minor": 5
}
