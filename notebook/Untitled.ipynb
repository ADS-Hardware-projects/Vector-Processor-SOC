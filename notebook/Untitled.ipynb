{
 "cells": [
  {
   "cell_type": "code",
   "execution_count": 15,
   "id": "0cf1d639",
   "metadata": {},
   "outputs": [],
   "source": [
    "out = \"0000095600000cdb00000e8900001021000000000000000000000000000000000000000000000000000000000000000000000000000000000000000000000000\""
   ]
  },
  {
   "cell_type": "code",
   "execution_count": 16,
   "id": "c324f2f6",
   "metadata": {},
   "outputs": [
    {
     "name": "stdout",
     "output_type": "stream",
     "text": [
      "2390, 3291, 3721, 4129, 0, 0, 0, 0, 0, 0, 0, 0, 0, 0, 0, 0, "
     ]
    }
   ],
   "source": [
    "for i in range(16):\n",
    "    hex_val = int(out[i*8: i*8+8], 16)\n",
    "    print(hex_val, end = \", \")"
   ]
  },
  {
   "cell_type": "code",
   "execution_count": 6,
   "id": "a14102a9",
   "metadata": {},
   "outputs": [
    {
     "data": {
      "text/plain": [
       "128"
      ]
     },
     "execution_count": 6,
     "metadata": {},
     "output_type": "execute_result"
    }
   ],
   "source": [
    "len(out)"
   ]
  },
  {
   "cell_type": "code",
   "execution_count": 9,
   "id": "4241f1b4",
   "metadata": {},
   "outputs": [
    {
     "data": {
      "text/plain": [
       "2390"
      ]
     },
     "execution_count": 9,
     "metadata": {},
     "output_type": "execute_result"
    }
   ],
   "source": [
    "int(\"00000956\", 16)"
   ]
  },
  {
   "cell_type": "code",
   "execution_count": null,
   "id": "154e46d9",
   "metadata": {},
   "outputs": [],
   "source": []
  },
  {
   "cell_type": "code",
   "execution_count": null,
   "id": "ed98b073",
   "metadata": {},
   "outputs": [],
   "source": []
  },
  {
   "cell_type": "code",
   "execution_count": null,
   "id": "5c0faf3c",
   "metadata": {},
   "outputs": [],
   "source": []
  },
  {
   "cell_type": "code",
   "execution_count": null,
   "id": "d8184ea9",
   "metadata": {},
   "outputs": [],
   "source": []
  },
  {
   "cell_type": "code",
   "execution_count": 11,
   "id": "80d72faf",
   "metadata": {},
   "outputs": [],
   "source": [
    "n = [\n",
    "        \".y_out(FinalDataOut[31 :0])\",\n",
    "    \".y_out(FinalDataOut[63 :32])\",\n",
    "    \".y_out(FinalDataOut[95 :64])\",\n",
    "    \".y_out(FinalDataOut[127:96])\",\n",
    "    \".y_out(FinalDataOut[159:128])\",\n",
    "    \".y_out(FinalDataOut[191:160])\",\n",
    "    \".y_out(FinalDataOut[223:192])\",\n",
    "    \".y_out(FinalDataOut[255:224])\",\n",
    "    \".y_out(FinalDataOut[287:256])\",\n",
    "    \".y_out(FinalDataOut[319:288])\",\n",
    "    \".y_out(FinalDataOut[351:320])\",\n",
    "    \".y_out(FinalDataOut[383:352])\",\n",
    "    \".y_out(FinalDataOut[415:384])\",\n",
    "    \".y_out(FinalDataOut[447:416])\",\n",
    "    \".y_out(FinalDataOut[479:448])\",\n",
    "    \".y_out(FinalDataOut[511:480])\"\n",
    "]"
   ]
  },
  {
   "cell_type": "code",
   "execution_count": 14,
   "id": "b65ee090",
   "metadata": {},
   "outputs": [
    {
     "name": "stdout",
     "output_type": "stream",
     "text": [
      ".y_out(FinalDataOut[511:480])\n",
      ".y_out(FinalDataOut[479:448])\n",
      ".y_out(FinalDataOut[447:416])\n",
      ".y_out(FinalDataOut[415:384])\n",
      ".y_out(FinalDataOut[383:352])\n",
      ".y_out(FinalDataOut[351:320])\n",
      ".y_out(FinalDataOut[319:288])\n",
      ".y_out(FinalDataOut[287:256])\n",
      ".y_out(FinalDataOut[255:224])\n",
      ".y_out(FinalDataOut[223:192])\n",
      ".y_out(FinalDataOut[191:160])\n",
      ".y_out(FinalDataOut[159:128])\n",
      ".y_out(FinalDataOut[127:96])\n",
      ".y_out(FinalDataOut[95 :64])\n",
      ".y_out(FinalDataOut[63 :32])\n",
      ".y_out(FinalDataOut[31 :0])\n"
     ]
    }
   ],
   "source": [
    "for line in n[::-1]:\n",
    "    print(line)"
   ]
  },
  {
   "cell_type": "code",
   "execution_count": null,
   "id": "597b78ee",
   "metadata": {},
   "outputs": [],
   "source": []
  }
 ],
 "metadata": {
  "kernelspec": {
   "display_name": "Python 3 (ipykernel)",
   "language": "python",
   "name": "python3"
  },
  "language_info": {
   "codemirror_mode": {
    "name": "ipython",
    "version": 3
   },
   "file_extension": ".py",
   "mimetype": "text/x-python",
   "name": "python",
   "nbconvert_exporter": "python",
   "pygments_lexer": "ipython3",
   "version": "3.10.5"
  }
 },
 "nbformat": 4,
 "nbformat_minor": 5
}
